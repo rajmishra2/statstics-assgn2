{
 "cells": [
  {
   "cell_type": "markdown",
   "id": "e4006e59-7332-4262-8056-6707b24f710d",
   "metadata": {},
   "source": [
    "Q1. What are the three measures of central tendency?\n",
    "\n",
    "1-mean 2-median 3-mode"
   ]
  },
  {
   "cell_type": "markdown",
   "id": "fefc76d7-3df1-4d9c-b003-f3a4c3397c29",
   "metadata": {},
   "source": [
    "Q2. What is the difference between the mean, median, and mode? How are they used to measure the\n",
    "central tendency of a dataset?\n",
    "\n",
    "mean is the average of the elements\n",
    "median is the middle value of the elements\n",
    "mode mode is the value of the number which occurs most often in the list. \n",
    " Mode: the most frequent value. Median: the middle number in an ordered dataset. Mean: the sum of all values divided by the total number of values."
   ]
  },
  {
   "cell_type": "markdown",
   "id": "f7dd3789-1fc7-40f3-ae84-d4ee70a54019",
   "metadata": {},
   "source": [
    "Q3. Measure the three measures of central tendency for the given height data:\n",
    "[178,177,176,177,178.2,178,175,179,180,175,178.9,176.2,177,172.5,178,176.5]\n",
    "\n"
   ]
  },
  {
   "cell_type": "code",
   "execution_count": 1,
   "id": "cbecdf02-1961-4d3e-94b1-4ef285c0a0ab",
   "metadata": {},
   "outputs": [
    {
     "data": {
      "text/plain": [
       "177.01875"
      ]
     },
     "execution_count": 1,
     "metadata": {},
     "output_type": "execute_result"
    }
   ],
   "source": [
    "import numpy as np\n",
    "data=[178,177,176,177,178.2,178,175,179,180,175,178.9,176.2,177,172.5,178,176.5]\n",
    "np.mean(data)"
   ]
  },
  {
   "cell_type": "code",
   "execution_count": 2,
   "id": "c058a7ad-db81-414a-9773-f6a9aaa35ad5",
   "metadata": {},
   "outputs": [
    {
     "data": {
      "text/plain": [
       "177.0"
      ]
     },
     "execution_count": 2,
     "metadata": {},
     "output_type": "execute_result"
    }
   ],
   "source": [
    "np.median(data)"
   ]
  },
  {
   "cell_type": "code",
   "execution_count": 7,
   "id": "96baa296-7e76-4fbb-83a9-a232cbabc203",
   "metadata": {},
   "outputs": [
    {
     "data": {
      "text/plain": [
       "array([172.5, 175. , 176. , 176.2, 176.5, 177. , 178. , 178.2, 178.9,\n",
       "       179. , 180. ])"
      ]
     },
     "execution_count": 7,
     "metadata": {},
     "output_type": "execute_result"
    }
   ],
   "source": [
    "np.unique(data) #for mode we use unique"
   ]
  },
  {
   "cell_type": "code",
   "execution_count": 9,
   "id": "ce5f4566-9331-40be-a5c3-17ba09ae5dfa",
   "metadata": {},
   "outputs": [
    {
     "name": "stderr",
     "output_type": "stream",
     "text": [
      "/tmp/ipykernel_77/2800027621.py:2: FutureWarning: Unlike other reduction functions (e.g. `skew`, `kurtosis`), the default behavior of `mode` typically preserves the axis it acts along. In SciPy 1.11.0, this behavior will change: the default value of `keepdims` will become False, the `axis` over which the statistic is taken will be eliminated, and the value None will no longer be accepted. Set `keepdims` to True or False to avoid this warning.\n",
      "  stats.mode(data)\n"
     ]
    },
    {
     "data": {
      "text/plain": [
       "ModeResult(mode=array([177.]), count=array([3]))"
      ]
     },
     "execution_count": 9,
     "metadata": {},
     "output_type": "execute_result"
    }
   ],
   "source": [
    "from scipy import stats\n",
    "stats.mode(data)"
   ]
  },
  {
   "cell_type": "markdown",
   "id": "019ed2ac-c34d-4a1b-92ba-e7b358928cea",
   "metadata": {},
   "source": [
    "Q4. Find the standard deviation for the given data:\n",
    "[178,177,176,177,178.2,178,175,179,180,175,178.9,176.2,177,172.5,178,176.5]"
   ]
  },
  {
   "cell_type": "code",
   "execution_count": 10,
   "id": "aebaf4bf-7d49-4388-9e9c-350230598ce7",
   "metadata": {},
   "outputs": [
    {
     "data": {
      "text/plain": [
       "1.7885814036548633"
      ]
     },
     "execution_count": 10,
     "metadata": {},
     "output_type": "execute_result"
    }
   ],
   "source": [
    "data2=[178,177,176,177,178.2,178,175,179,180,175,178.9,176.2,177,172.5,178,176.5]\n",
    "np.std(data2)\n"
   ]
  },
  {
   "cell_type": "markdown",
   "id": "fc10e1b9-7291-41df-88f7-cf1feba21103",
   "metadata": {},
   "source": [
    "Q5. How are measures of dispersion such as range, variance, and standard deviation used to describe\n",
    "the spread of a dataset? Provide an example.\n",
    "Range:\n",
    "The range of the data is given as the difference between the maximum and the minimum values of the observations in the data. For example, let’s say we have data on the number of customers walking in the store in a week. \n",
    "\n",
    "Variance:\n",
    "The variance of the data is given by measuring the distance of the observed values from the mean of the distribution. Here we are not concerned with the sign of the distance of the point, we are more interested in the magnitude. So, we take squares of the distance from the mean.\n",
    "\n",
    "standard deviation:\n",
    "in the calculation of variance, notice that the units of the variance and the unit of the observations are not the same. So, to remove this problem, we define standard deviation\n"
   ]
  },
  {
   "cell_type": "markdown",
   "id": "7404a249-8559-41d6-bc1a-d6eb00e0ef3b",
   "metadata": {},
   "source": [
    "Q6. What is a Venn diagram?\n",
    "A Venn diagram is an illustration that uses circles to show the relationships among things or finite groups of things."
   ]
  },
  {
   "cell_type": "markdown",
   "id": "fe6b436e-556f-4f81-b0e1-051903b0cd92",
   "metadata": {},
   "source": [
    "Q7. For the two given sets A = (2,3,4,5,6,7) & B = (0,2,6,8,10). Find:\n",
    "(i) A B\n",
    "(ii) A ⋃ B\n",
    "\n",
    "1=(2,6)\n",
    "2=(0,2,3,4,5,6,7,8,10)"
   ]
  },
  {
   "cell_type": "markdown",
   "id": "d94aed77-e486-4155-a7b0-73cbccf86bfe",
   "metadata": {},
   "source": [
    "Q8. What do you understand about skewness in data?\n",
    "Skewness is demonstrated on a bell curve when data points are not distributed symmetrically to the left and right sides of the median on a bell curve. If the bell curve is shifted to the left or the right, it is said to be skewed."
   ]
  },
  {
   "cell_type": "markdown",
   "id": "563953ea-be66-4daf-b7a0-c2cdf8c83e0c",
   "metadata": {},
   "source": [
    "Q9. If a data is right skewed then what will be the position of median with respect to mean?\n",
    "median will be less than mean"
   ]
  },
  {
   "cell_type": "markdown",
   "id": "9cddcbf3-268e-4fc3-b0e5-55f95eec3e40",
   "metadata": {},
   "source": [
    "Q10. For a normal distribution data what is the relationship between its measure of central tendency?Q10. Explain the difference between covariance and correlation. How are these measures used in\n",
    "statistical analysis?\n",
    "\n",
    "Covariance is an indicator of the extent to which 2 random variables are dependent on each other. A higher number denotes higher dependency. Correlation is a statistical measure that indicates how strongly two variables are related. The value of covariance lies in the range of -∞ and +∞"
   ]
  },
  {
   "cell_type": "markdown",
   "id": "9df417b7-0200-41e1-b0ee-de7a4e8af3fc",
   "metadata": {},
   "source": [
    "Q11. What is the formula for calculating the sample mean? Provide an example calculation for a\n",
    "dataset.\n",
    " x̄ = ( Σ xi ) / n.\n",
    " age=[25,56,85,26,74,22,63]\n",
    "    "
   ]
  },
  {
   "cell_type": "markdown",
   "id": "6a051e97-91b3-450b-bcd4-635ff38460dc",
   "metadata": {},
   "source": [
    "Q12. For a normal distribution data what is the relationship between its measure of central tendency?\n",
    "Any normal distribution has a graph that is perfectly symmetric about a vertical line through its peak. Therefore, all measures of central tendency (most commonly, the mean, median, and mode) give the same answer: the x -value of the peak"
   ]
  },
  {
   "cell_type": "markdown",
   "id": "8fc5215a-051e-4d59-94a1-dd294403b853",
   "metadata": {},
   "source": [
    "Q13. How is covariance different from correlation?\n",
    "\n",
    "Covariance is when two variables vary with each other, whereas Correlation is when the change in one variable results in the change in another variable"
   ]
  },
  {
   "cell_type": "markdown",
   "id": "6b769511-7ab1-4652-8339-a7ff894238b4",
   "metadata": {},
   "source": [
    "Q14. How do outliers affect measures of central tendency and dispersion? Provide an example.\n",
    "\n",
    "oultier will create a big diffrence between two results "
   ]
  }
 ],
 "metadata": {
  "kernelspec": {
   "display_name": "Python 3 (ipykernel)",
   "language": "python",
   "name": "python3"
  },
  "language_info": {
   "codemirror_mode": {
    "name": "ipython",
    "version": 3
   },
   "file_extension": ".py",
   "mimetype": "text/x-python",
   "name": "python",
   "nbconvert_exporter": "python",
   "pygments_lexer": "ipython3",
   "version": "3.10.8"
  }
 },
 "nbformat": 4,
 "nbformat_minor": 5
}
